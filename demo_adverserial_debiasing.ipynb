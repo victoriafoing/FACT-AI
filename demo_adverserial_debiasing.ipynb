{
 "cells": [
  {
   "cell_type": "code",
   "execution_count": null,
   "metadata": {},
   "outputs": [],
   "source": [
    "# Importing Libraries\n",
    "from collections import defaultdict\n",
    "from pathlib import Path\n",
    "import numpy as np\n",
    "import pandas as pd\n",
    "from collections import namedtuple\n",
    "from tabulate import tabulate\n",
    "\n",
    "import torch\n",
    "import os\n",
    "\n",
    "from adversarial_debiasing import AdversarialDebiasing\n",
    "from load_data import load_data, transform_data, Datapoint\n",
    "\n",
    "from load_vectors import load_pretrained_vectors, load_vectors\n",
    "import config\n",
    "import utility_functions\n",
    "\n",
    "import gensim\n",
    "import gzip"
   ]
  },
  {
   "cell_type": "code",
   "execution_count": null,
   "metadata": {},
   "outputs": [],
   "source": [
    "# For autoreloading changes made in other python scripts\n",
    "%load_ext autoreload\n",
    "%autoreload 2"
   ]
  },
  {
   "cell_type": "code",
   "execution_count": null,
   "metadata": {},
   "outputs": [],
   "source": [
    "WORD2VEC_FILE = \"data/GoogleNews-vectors-negative300.bin.gz\""
   ]
  },
  {
   "cell_type": "code",
   "execution_count": null,
   "metadata": {},
   "outputs": [],
   "source": [
    "def load_word2vec_format(f, max_num_words=None):\n",
    "          \"\"\"Loads word2vec data from a file handle.\n",
    "\n",
    "          Similar to gensim.models.keyedvectors.KeyedVectors.load_word2vec_format\n",
    "          but takes a file handle as input rather than a filename. This lets us use\n",
    "          GFile. Also only accepts binary files.\n",
    "\n",
    "          Args:\n",
    "            f: file handle\n",
    "            max_num_words: number of words to load. If None, load all.\n",
    "\n",
    "          Returns:\n",
    "            Word2vec data as keyedvectors.EuclideanKeyedVectors.\n",
    "          \"\"\"\n",
    "          header = f.readline()\n",
    "          vocab_size, vector_size = (\n",
    "              int(x) for x in header.rstrip().split())  # throws for invalid file format\n",
    "          print(\"vector_size\",vector_size)\n",
    "          result = gensim.models.keyedvectors.EuclideanKeyedVectors()\n",
    "          num_words = 0\n",
    "          result.vector_size = vector_size\n",
    "          result.syn0 = np.zeros((vocab_size, vector_size), dtype=np.float32)\n",
    "\n",
    "          def add_word(word, weights):\n",
    "            word_id = len(result.vocab)\n",
    "            if word in result.vocab:\n",
    "              print(\"duplicate word '%s', ignoring all but first\", word)\n",
    "              return\n",
    "            result.vocab[word] = gensim.models.keyedvectors.Vocab(\n",
    "                index=word_id, count=vocab_size - word_id)\n",
    "            result.syn0[word_id] = weights\n",
    "            result.index2word.append(word)\n",
    "\n",
    "          if max_num_words and max_num_words < vocab_size:\n",
    "            num_embeddings = max_num_words\n",
    "          else:\n",
    "            num_embeddings = vocab_size\n",
    "          print(\"Loading \",num_embeddings,\" embeddings\")\n",
    "\n",
    "          binary_len = np.dtype(np.float32).itemsize * vector_size\n",
    "          for _ in range(vocab_size):\n",
    "            # mixed text and binary: read text first, then binary\n",
    "            word = []\n",
    "            while True:\n",
    "              ch = f.read(1)\n",
    "              if ch == b' ':\n",
    "                break\n",
    "              if ch == b'':\n",
    "                raise EOFError(\"unexpected end of input; is count incorrect or file otherwise damaged?\")\n",
    "              if ch != b'\\n':  # ignore newlines in front of words (some binary files have)\n",
    "                word.append(ch)\n",
    "            word = gensim.utils.to_unicode(b''.join(word), encoding='utf-8', errors='strict')\n",
    "            weights = np.frombuffer(f.read(binary_len), dtype=np.float32)\n",
    "            add_word(word, weights)\n",
    "            num_words = num_words + 1\n",
    "            if max_num_words and num_words == max_num_words:\n",
    "              break\n",
    "          if result.syn0.shape[0] != len(result.vocab):\n",
    "            print(\n",
    "                \"duplicate words detected, shrinking matrix size from %i to %i\",\n",
    "                result.syn0.shape[0], len(result.vocab))\n",
    "          result.syn0 = np.ascontiguousarray(result.syn0[:len(result.vocab)])\n",
    "          assert (len(result.vocab), vector_size) == result.syn0.shape\n",
    "\n",
    "          print(\"loaded %s matrix\", result.syn0.shape)\n",
    "          return result"
   ]
  },
  {
   "cell_type": "code",
   "execution_count": null,
   "metadata": {},
   "outputs": [],
   "source": [
    "with gzip.GzipFile(fileobj=open(WORD2VEC_FILE, \"rb\", buffering=0)) as f:\n",
    "    word_vectors = load_word2vec_format(f, max_num_words=2000000)"
   ]
  },
  {
   "cell_type": "code",
   "execution_count": null,
   "metadata": {},
   "outputs": [],
   "source": [
    "# Loading the word vectors dictionary\n",
    "word_vectors = load_pretrained_vectors(config.wiki_embedding_data_path, config.save_dir, config.wiki_save_file, config.use_glove)"
   ]
  },
  {
   "cell_type": "code",
   "execution_count": null,
   "metadata": {},
   "outputs": [],
   "source": [
    "# Load the google analogies training dataset:\n",
    "analogy_dataset = load_data()\n",
    "analogy_dataset"
   ]
  },
  {
   "cell_type": "code",
   "execution_count": null,
   "metadata": {},
   "outputs": [],
   "source": [
    "# Transform the data such that it includes the embeddings of the words in consideration\n",
    "transformed_analogy_dataset, gender_subspace = transform_data(word_vectors, analogy_dataset, use_boluk = False)"
   ]
  },
  {
   "cell_type": "code",
   "execution_count": null,
   "metadata": {},
   "outputs": [],
   "source": [
    "# Testing the transformed analogy dataset\n",
    "print(transformed_analogy_dataset[0].analogy_embeddings.shape)\n",
    "print(transformed_analogy_dataset[0].gt_embedding.shape)\n",
    "print(transformed_analogy_dataset[0].protected.shape)"
   ]
  },
  {
   "cell_type": "code",
   "execution_count": null,
   "metadata": {},
   "outputs": [],
   "source": [
    "# Training the variant of the model without debiasing\n",
    "non_debiased_model = AdversarialDebiasing(debias=False, num_epochs=50)\n",
    "non_debiased_model.fit(dataset=transformed_analogy_dataset)"
   ]
  },
  {
   "cell_type": "code",
   "execution_count": null,
   "metadata": {},
   "outputs": [],
   "source": [
    "W1 = non_debiased_model.get_model_weights()\n",
    "print(np.dot(W1.detach().numpy().T,gender_subspace.T))"
   ]
  },
  {
   "cell_type": "code",
   "execution_count": null,
   "metadata": {},
   "outputs": [],
   "source": [
    "# Training the variant of the model with debiasing\n",
    "debiased_model = AdversarialDebiasing(num_epochs=500)\n",
    "debiased_model.fit(dataset=transformed_analogy_dataset)"
   ]
  },
  {
   "cell_type": "code",
   "execution_count": null,
   "metadata": {},
   "outputs": [],
   "source": [
    "W1 = debiased_model.get_model_weights()\n",
    "print(np.dot(W1.detach().numpy().T,gender_subspace.T))"
   ]
  },
  {
   "cell_type": "code",
   "execution_count": null,
   "metadata": {},
   "outputs": [],
   "source": [
    "# Examples to test the models upon\n",
    "datapoints, test_analogies = [], []\n",
    "with open(os.path.join('data', 'sexism-traps.txt'), 'r') as f:\n",
    "    # Reading each line\n",
    "    for line in f.readlines():\n",
    "        words = line.split()\n",
    "        if words[0] == ':':\n",
    "            continue\n",
    "        test_analogies.append(words)\n",
    "        word_embeddings = word_vectors[words]\n",
    "        word_embeddings = np.reshape(word_embeddings, (1, -1))\n",
    "        datapoints.append(word_embeddings)\n",
    "datapoints = np.vstack(datapoints)\n",
    "print(datapoints.shape)"
   ]
  },
  {
   "cell_type": "code",
   "execution_count": null,
   "metadata": {},
   "outputs": [],
   "source": [
    "# Qualitative evaluation of the non-debiased model\n",
    "non_debiased_predictions = non_debiased_model.predict(datapoints)\n",
    "non_debiased_most_similar_list = utility_functions.obtain_most_similar(non_debiased_predictions, word_vectors)"
   ]
  },
  {
   "cell_type": "code",
   "execution_count": null,
   "metadata": {},
   "outputs": [],
   "source": [
    "# Displaying the similarity list for the non-debiased model\n",
    "non_debiased_most_similar_list_data_frames = []\n",
    "for i in range(len(non_debiased_most_similar_list)):\n",
    "    # print(\"{} : {} :: {} : \".format(test_analogies[i][0], test_analogies[i][1], test_analogies[i][2]))\n",
    "    temp_data_frame = pd.DataFrame(non_debiased_most_similar_list[i][1:], columns = ['Neighbor', 'Similarity'])\n",
    "    non_debiased_most_similar_list_data_frames.append(temp_data_frame)\n",
    "    # print(tabulate(temp_data_frame, headers='keys', tablefmt='psql', showindex=False))"
   ]
  },
  {
   "cell_type": "code",
   "execution_count": null,
   "metadata": {},
   "outputs": [],
   "source": [
    "# Qualitative evaluation of the debiased model\n",
    "debiased_predictions = debiased_model.predict(datapoints)\n",
    "debiased_most_similar_list = utility_functions.obtain_most_similar(debiased_predictions, word_vectors)"
   ]
  },
  {
   "cell_type": "code",
   "execution_count": null,
   "metadata": {},
   "outputs": [],
   "source": [
    "# Displaying the similarity list for the debiased model\n",
    "debiased_most_similar_list_data_frames = []\n",
    "for i in range(len(debiased_most_similar_list)):\n",
    "    # print(\"{} : {} :: {} : \".format(test_analogies[i][0], test_analogies[i][1], test_analogies[i][2]))\n",
    "    temp_data_frame = pd.DataFrame(debiased_most_similar_list[i][1:], columns = ['Neighbor', 'Similarity'])\n",
    "    debiased_most_similar_list_data_frames.append(temp_data_frame)\n",
    "    # print(tabulate(temp_data_frame, headers='keys', tablefmt='psql', showindex=False))"
   ]
  },
  {
   "cell_type": "code",
   "execution_count": null,
   "metadata": {},
   "outputs": [],
   "source": [
    "# Combining the dataframes pertaining to both the variants of the model\n",
    "iterables = [['Biased', 'Debiased'], ['Neighbour', 'Similarity']]\n",
    "index = pd.MultiIndex.from_product(iterables)\n",
    "overall_data_frames_list = []\n",
    "for i in range(len(non_debiased_most_similar_list)):\n",
    "    overall_list = []\n",
    "    print(\"{} : {} :: {} : \".format(test_analogies[i][0], test_analogies[i][1], test_analogies[i][2]))\n",
    "    for j in range(len(non_debiased_most_similar_list[i][1:])):\n",
    "        temp_list = []\n",
    "        temp_list.append(non_debiased_most_similar_list[i][j][0])\n",
    "        temp_list.append(round(non_debiased_most_similar_list[i][j][1], 3))\n",
    "        temp_list.append(debiased_most_similar_list[i][j][0])\n",
    "        temp_list.append(round(debiased_most_similar_list[i][j][1], 3))\n",
    "        overall_list.append(temp_list)\n",
    "    temp_df = pd.DataFrame(overall_list, columns = index)\n",
    "    # print(temp_df.to_string(index = False))\n",
    "    print(tabulate(temp_df, headers = ['Biased\\nNeighbour', 'Biased\\nSimilarity', 'Debiased\\nNeighbour', 'Debiased\\nSimilarity'], tablefmt = 'psql', showindex = False))\n",
    "    overall_data_frames_list.append(temp_df)"
   ]
  },
  {
   "cell_type": "code",
   "execution_count": null,
   "metadata": {},
   "outputs": [],
   "source": [
    "# Fake dataset for testing purposes\n",
    "\n",
    "# embedding_dim = 100\n",
    "# analogy_dataset = [\n",
    "#     Datapoint(\n",
    "#     analogy_embeddings=np.random.normal(0, 1, size=(3 * embedding_dim, 1)), \n",
    "#     gt_embedding=np.random.normal(0, 1, size=(embedding_dim, 1)),\n",
    "#     protected_embedding=np.random.uniform(0, 1, size=(1))) for n in range(0, 1000)\n",
    "# ]"
   ]
  }
 ],
 "metadata": {
  "kernelspec": {
   "display_name": "Python 3",
   "language": "python",
   "name": "python3"
  },
  "language_info": {
   "codemirror_mode": {
    "name": "ipython",
    "version": 3
   },
   "file_extension": ".py",
   "mimetype": "text/x-python",
   "name": "python",
   "nbconvert_exporter": "python",
   "pygments_lexer": "ipython3",
   "version": "3.7.6"
  },
  "pycharm": {
   "stem_cell": {
    "cell_type": "raw",
    "metadata": {
     "collapsed": false
    },
    "source": []
   }
  }
 },
 "nbformat": 4,
 "nbformat_minor": 1
}
