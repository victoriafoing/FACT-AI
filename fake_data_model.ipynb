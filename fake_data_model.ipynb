{
 "cells": [
  {
   "cell_type": "code",
   "execution_count": null,
   "metadata": {
    "pycharm": {
     "is_executing": false,
     "name": "#%%\n"
    }
   },
   "outputs": [],
   "source": [
    "# Importing Libraries\n",
    "from collections import defaultdict\n",
    "from pathlib import Path\n",
    "import numpy as np\n",
    "import pandas as pd\n",
    "from collections import namedtuple\n",
    "\n",
    "from adversarial_debiasing import AdversarialDebiasing\n",
    "from load_data import load_data, transform_data, Datapoint\n",
    "\n",
    "from load_vectors import load_pretrained_vectors, load_vectors\n",
    "import config\n",
    "import utility_functions"
   ]
  },
  {
   "cell_type": "code",
   "execution_count": null,
   "metadata": {},
   "outputs": [],
   "source": [
    "# For autoreloading changes made in other python scripts\n",
    "%load_ext autoreload\n",
    "%autoreload 2"
   ]
  },
  {
   "cell_type": "code",
   "execution_count": null,
   "metadata": {},
   "outputs": [],
   "source": [
    "# Loading the word vectors dictionary\n",
    "word_vectors = load_pretrained_vectors(config.wiki_embedding_data_path, config.save_dir, config.wiki_save_file, \\\n",
    "                                       config.use_glove)"
   ]
  },
  {
   "cell_type": "code",
   "execution_count": null,
   "metadata": {},
   "outputs": [],
   "source": [
    "# Testing the word vectors dictionary\n",
    "temp = word_vectors['john', 'mary', 'hello']\n",
    "print(temp.shape)\n",
    "temp[0]"
   ]
  },
  {
   "cell_type": "code",
   "execution_count": null,
   "metadata": {
    "pycharm": {
     "is_executing": false,
     "name": "#%%\n"
    }
   },
   "outputs": [],
   "source": [
    "# Load the google analogies training dataset:\n",
    "analogy_dataset = load_data()\n",
    "analogy_dataset"
   ]
  },
  {
   "cell_type": "code",
   "execution_count": null,
   "metadata": {},
   "outputs": [],
   "source": [
    "x = utility_functions.obtain_gender_pairs(word_vectors)\n",
    "print(len(x[0][0]))\n",
    "for y in x:\n",
    "    print(y)"
   ]
  },
  {
   "cell_type": "code",
   "execution_count": null,
   "metadata": {},
   "outputs": [],
   "source": [
    "y = utility_functions.obtain_gender_subspace(x)\n",
    "print(y)"
   ]
  },
  {
   "cell_type": "code",
   "execution_count": null,
   "metadata": {
    "pycharm": {
     "is_executing": false,
     "name": "#%%\n"
    }
   },
   "outputs": [],
   "source": [
    "# Transform the data such that it includes the embeddings\n",
    "analogy_dataset = transform_data(word_vectors, analogy_dataset)\n",
    "analogy_dataset"
   ]
  },
  {
   "cell_type": "code",
   "execution_count": null,
   "metadata": {
    "scrolled": false
   },
   "outputs": [],
   "source": [
    "# Now we fit a dataset.\n",
    "\n",
    "embedding_dim = 100\n",
    "analogy_dataset = [\n",
    "    Datapoint(\n",
    "    analogy_embeddings=np.random.normal(0, 1, size=(1, 3 * embedding_dim)), \n",
    "    gt_embedding=np.random.normal(0, 1, size=(1, embedding_dim)),\n",
    "    protected_embedding=np.random.uniform(0, 1, size=(1, 1))) for n in range(0, 1000)\n",
    "]\n",
    "\n",
    "\n",
    "print(analogy_dataset[0].analogy_embeddings.shape)\n",
    "model = AdversarialDebiasing()\n",
    "model.fit(dataset=analogy_dataset)\n"
   ]
  },
  {
   "cell_type": "code",
   "execution_count": null,
   "metadata": {},
   "outputs": [],
   "source": [
    "# Now we fit a dataset.\n",
    "# Test the model with fake data:\n",
    "embedding_dim = 100\n",
    "analogy_dataset = [\n",
    "    Datapoint(\n",
    "    analogy_embeddings=np.random.normal(0, 1, size=(1, 3 * embedding_dim)), \n",
    "    gt_embedding=np.random.normal(0, 1, size=(1, embedding_dim)),\n",
    "    protected_embedding=np.random.uniform(0, 1, size=(1, 1))) for n in range(0, 1000)\n",
    "]\n",
    "\n",
    "\n",
    "print(analogy_dataset[0].analogy_embeddings.shape)\n",
    "model = AdversarialDebiasing()\n",
    "model.fit(dataset=analogy_dataset)\n"
   ]
  },
  {
   "cell_type": "code",
   "execution_count": null,
   "metadata": {},
   "outputs": [],
   "source": []
  }
 ],
 "metadata": {
  "kernelspec": {
   "display_name": "Python 3",
   "language": "python",
   "name": "python3"
  },
  "language_info": {
   "codemirror_mode": {
    "name": "ipython",
    "version": 3
   },
   "file_extension": ".py",
   "mimetype": "text/x-python",
   "name": "python",
   "nbconvert_exporter": "python",
   "pygments_lexer": "ipython3",
   "version": "3.7.6"
  },
  "pycharm": {
   "stem_cell": {
    "cell_type": "raw",
    "metadata": {
     "collapsed": false
    },
    "source": []
   }
  }
 },
 "nbformat": 4,
 "nbformat_minor": 1
}
